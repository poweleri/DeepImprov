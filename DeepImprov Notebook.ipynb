{
 "cells": [
  {
   "cell_type": "code",
   "execution_count": 2,
   "metadata": {},
   "outputs": [],
   "source": [
    "import config as cfg\n",
    "\n",
    "# model configurations\n",
    "cfg.n_epochs = 256\n",
    "cfg.sequence_length = 32\n",
    "cfg.n_generated_notes = 64\n",
    "cfg.n_neurons = 256\n",
    "\n",
    "# File paths\n",
    "training_midi = 'midi/clifford_brown/'\n",
    "generated_midi = 'midi/generated/'\n",
    "weights = 'weights.h5'\n",
    "note_set_file = 'training_note_set.csv'\n",
    "\n",
    "# Chosen file to be generated from\n",
    "generated_file_base = 'CliffordBrown_Stompin\\'AtTheSavoy_FINAL.mid'\n",
    "user_file = training_midi + generated_file_base"
   ]
  },
  {
   "cell_type": "code",
   "execution_count": null,
   "metadata": {},
   "outputs": [],
   "source": [
    "# Generator has function to train, generate and evaluate\n",
    "import generator "
   ]
  },
  {
   "cell_type": "code",
   "execution_count": null,
   "metadata": {},
   "outputs": [],
   "source": [
    "generator.train()"
   ]
  },
  {
   "cell_type": "code",
   "execution_count": null,
   "metadata": {},
   "outputs": [],
   "source": [
    "generator.generate()"
   ]
  },
  {
   "cell_type": "code",
   "execution_count": null,
   "metadata": {},
   "outputs": [],
   "source": [
    "generator.evaluate()"
   ]
  }
 ],
 "metadata": {
  "kernelspec": {
   "display_name": "Python 3",
   "language": "python",
   "name": "python3"
  },
  "language_info": {
   "codemirror_mode": {
    "name": "ipython",
    "version": 3
   },
   "file_extension": ".py",
   "mimetype": "text/x-python",
   "name": "python",
   "nbconvert_exporter": "python",
   "pygments_lexer": "ipython3",
   "version": "3.8.1"
  }
 },
 "nbformat": 4,
 "nbformat_minor": 4
}
